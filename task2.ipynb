{
 "cells": [
  {
   "cell_type": "code",
   "execution_count": 1,
   "metadata": {},
   "outputs": [],
   "source": [
    "import cobra\n"
   ]
  },
  {
   "cell_type": "code",
   "execution_count": 2,
   "metadata": {},
   "outputs": [],
   "source": [
    "from cobra import Model,Reaction,Metabolite\n"
   ]
  },
  {
   "cell_type": "code",
   "execution_count": 3,
   "metadata": {},
   "outputs": [],
   "source": [
    "model=Model('model_task')\n"
   ]
  },
  {
   "cell_type": "code",
   "execution_count": 4,
   "metadata": {},
   "outputs": [],
   "source": [
    "#======>glc\n",
    "v0=Reaction('v0')\n",
    "v0.name='v0'\n",
    "v0.lower_bound=1\n",
    "v0.upper_bound=1\n"
   ]
  },
  {
   "cell_type": "code",
   "execution_count": 5,
   "metadata": {},
   "outputs": [],
   "source": [
    "#glc=======>AA\n",
    "v1=Reaction('v1')\n",
    "v1.name='v1'\n",
    "v1.lower_bound=0\n",
    "v1.upper_bound=1000\n"
   ]
  },
  {
   "cell_type": "code",
   "execution_count": 6,
   "metadata": {},
   "outputs": [],
   "source": [
    "#AA=======>Biomass\n",
    "v2=Reaction('v2')\n",
    "v2.name='v2'\n",
    "v2.lower_bound=0\n",
    "v2.upper_bound=1000"
   ]
  },
  {
   "cell_type": "code",
   "execution_count": 7,
   "metadata": {},
   "outputs": [],
   "source": [
    "#Biomass=======>\n",
    "M=Reaction('M')\n",
    "M.name='M'\n",
    "M.lower_bound=0\n",
    "M.upper_bound=1000"
   ]
  },
  {
   "cell_type": "code",
   "execution_count": 8,
   "metadata": {},
   "outputs": [],
   "source": [
    "glc=Metabolite('glc',compartment='c')\n",
    "AA=Metabolite('AA',compartment='c')\n",
    "Biomass=Metabolite('Biomass',compartment='c')"
   ]
  },
  {
   "cell_type": "code",
   "execution_count": 9,
   "metadata": {},
   "outputs": [],
   "source": [
    "v0.add_metabolites({glc:1})\n"
   ]
  },
  {
   "cell_type": "code",
   "execution_count": 10,
   "metadata": {},
   "outputs": [],
   "source": [
    "v1.add_metabolites({glc:-1,AA:1})\n"
   ]
  },
  {
   "cell_type": "code",
   "execution_count": 11,
   "metadata": {},
   "outputs": [],
   "source": [
    "v2.add_metabolites({AA:-9.09,Biomass:1})\n"
   ]
  },
  {
   "cell_type": "code",
   "execution_count": 12,
   "metadata": {},
   "outputs": [],
   "source": [
    "v2.add_metabolites({AA:-9.09,Biomass:1})\n"
   ]
  },
  {
   "cell_type": "code",
   "execution_count": 13,
   "metadata": {},
   "outputs": [],
   "source": [
    "M.add_metabolites({Biomass:-1})\n"
   ]
  },
  {
   "cell_type": "code",
   "execution_count": 14,
   "metadata": {},
   "outputs": [],
   "source": [
    "model.add_reactions([v0,v1,v2,M])\n"
   ]
  },
  {
   "cell_type": "code",
   "execution_count": 15,
   "metadata": {},
   "outputs": [],
   "source": [
    "model.objective='M'\n"
   ]
  },
  {
   "cell_type": "code",
   "execution_count": 16,
   "metadata": {},
   "outputs": [
    {
     "data": {
      "text/html": [
       "<strong><em>Optimal</em> solution with objective value 0.110</strong><br><div>\n",
       "<style scoped>\n",
       "    .dataframe tbody tr th:only-of-type {\n",
       "        vertical-align: middle;\n",
       "    }\n",
       "\n",
       "    .dataframe tbody tr th {\n",
       "        vertical-align: top;\n",
       "    }\n",
       "\n",
       "    .dataframe thead th {\n",
       "        text-align: right;\n",
       "    }\n",
       "</style>\n",
       "<table border=\"1\" class=\"dataframe\">\n",
       "  <thead>\n",
       "    <tr style=\"text-align: right;\">\n",
       "      <th></th>\n",
       "      <th>fluxes</th>\n",
       "      <th>reduced_costs</th>\n",
       "    </tr>\n",
       "  </thead>\n",
       "  <tbody>\n",
       "    <tr>\n",
       "      <th>v0</th>\n",
       "      <td>1.000000</td>\n",
       "      <td>0.220022</td>\n",
       "    </tr>\n",
       "    <tr>\n",
       "      <th>v1</th>\n",
       "      <td>1.000000</td>\n",
       "      <td>0.000000</td>\n",
       "    </tr>\n",
       "    <tr>\n",
       "      <th>v2</th>\n",
       "      <td>0.055006</td>\n",
       "      <td>0.000000</td>\n",
       "    </tr>\n",
       "    <tr>\n",
       "      <th>M</th>\n",
       "      <td>0.110011</td>\n",
       "      <td>0.000000</td>\n",
       "    </tr>\n",
       "  </tbody>\n",
       "</table>\n",
       "</div>"
      ],
      "text/plain": [
       "<Solution 0.110 at 0x11ea9790>"
      ]
     },
     "execution_count": 16,
     "metadata": {},
     "output_type": "execute_result"
    }
   ],
   "source": [
    "model.optimize()\n"
   ]
  },
  {
   "cell_type": "code",
   "execution_count": 17,
   "metadata": {},
   "outputs": [
    {
     "data": {
      "text/html": [
       "<h3>Objective</h3><p>1.0 M = 0.11001100110011001</p><h4>Uptake</h4><table border=\"1\" class=\"dataframe\">\n",
       "  <thead>\n",
       "    <tr style=\"text-align: right;\">\n",
       "      <th>Metabolite</th>\n",
       "      <th>Reaction</th>\n",
       "      <th>Flux</th>\n",
       "      <th>C-Number</th>\n",
       "      <th>C-Flux</th>\n",
       "    </tr>\n",
       "  </thead>\n",
       "  <tbody>\n",
       "    <tr>\n",
       "      <td>glc</td>\n",
       "      <td>v0</td>\n",
       "      <td>1</td>\n",
       "      <td>0</td>\n",
       "      <td>0.00%</td>\n",
       "    </tr>\n",
       "  </tbody>\n",
       "</table><h4>Secretion</h4><table border=\"1\" class=\"dataframe\">\n",
       "  <thead>\n",
       "    <tr style=\"text-align: right;\">\n",
       "      <th>Metabolite</th>\n",
       "      <th>Reaction</th>\n",
       "      <th>Flux</th>\n",
       "      <th>C-Number</th>\n",
       "      <th>C-Flux</th>\n",
       "    </tr>\n",
       "  </thead>\n",
       "  <tbody>\n",
       "    <tr>\n",
       "      <td>Biomass</td>\n",
       "      <td>M</td>\n",
       "      <td>-0.11</td>\n",
       "      <td>0</td>\n",
       "      <td>0.00%</td>\n",
       "    </tr>\n",
       "  </tbody>\n",
       "</table>"
      ],
      "text/plain": [
       "<cobra.summary.model_summary.ModelSummary at 0x11ea9f40>"
      ]
     },
     "execution_count": 17,
     "metadata": {},
     "output_type": "execute_result"
    }
   ],
   "source": [
    "model.summary()\n"
   ]
  },
  {
   "cell_type": "code",
   "execution_count": 18,
   "metadata": {},
   "outputs": [],
   "source": [
    "cobra.io.save_json_model(model,\"test2.json\")\n"
   ]
  },
  {
   "cell_type": "code",
   "execution_count": 19,
   "metadata": {},
   "outputs": [
    {
     "name": "stdout",
     "output_type": "stream",
     "text": [
      "Requirement already satisfied: escher in c:\\users\\microsoft\\anaconda3\\lib\\site-packages (1.7.3)Note: you may need to restart the kernel to use updated packages.\n",
      "Requirement already satisfied: ipywidgets<8,>=7.4.0 in c:\\users\\microsoft\\anaconda3\\lib\\site-packages (from escher) (7.6.3)\n",
      "Requirement already satisfied: jsonschema<4,>=3.0.1 in c:\\users\\microsoft\\anaconda3\\lib\\site-packages (from escher) (3.2.0)\n",
      "Requirement already satisfied: Jinja2<3,>=2.7.3 in c:\\users\\microsoft\\anaconda3\\lib\\site-packages (from escher) (2.11.3)\n",
      "Requirement already satisfied: pytest<5,>=4.0.1 in c:\\users\\microsoft\\anaconda3\\lib\\site-packages (from escher) (4.6.11)\n",
      "Requirement already satisfied: cobra>=0.5.0 in c:\\users\\microsoft\\anaconda3\\lib\\site-packages (from escher) (0.24.0)\n",
      "Requirement already satisfied: pandas>=0.18 in c:\\users\\microsoft\\anaconda3\\lib\\site-packages (from escher) (1.2.4)\n",
      "Requirement already satisfied: depinfo~=1.7 in c:\\users\\microsoft\\anaconda3\\lib\\site-packages (from cobra>=0.5.0->escher) (1.7.0)\n",
      "Requirement already satisfied: future in c:\\users\\microsoft\\anaconda3\\lib\\site-packages (from cobra>=0.5.0->escher) (0.18.2)\n",
      "Requirement already satisfied: diskcache~=5.0 in c:\\users\\microsoft\\anaconda3\\lib\\site-packages (from cobra>=0.5.0->escher) (5.4.0)\n",
      "Requirement already satisfied: httpx~=0.14 in c:\\users\\microsoft\\anaconda3\\lib\\site-packages (from cobra>=0.5.0->escher) (0.22.0)\n",
      "Requirement already satisfied: pydantic~=1.6 in c:\\users\\microsoft\\anaconda3\\lib\\site-packages (from cobra>=0.5.0->escher) (1.9.0)\n",
      "Requirement already satisfied: importlib-resources in c:\\users\\microsoft\\anaconda3\\lib\\site-packages (from cobra>=0.5.0->escher) (5.4.0)\n",
      "Requirement already satisfied: numpy~=1.13 in c:\\users\\microsoft\\anaconda3\\lib\\site-packages (from cobra>=0.5.0->escher) (1.20.1)\n",
      "\n",
      "Requirement already satisfied: optlang~=1.5 in c:\\users\\microsoft\\anaconda3\\lib\\site-packages (from cobra>=0.5.0->escher) (1.5.2)\n",
      "Requirement already satisfied: ruamel.yaml~=0.16 in c:\\users\\microsoft\\anaconda3\\lib\\site-packages (from cobra>=0.5.0->escher) (0.17.21)\n",
      "Requirement already satisfied: python-libsbml==5.19.2 in c:\\users\\microsoft\\anaconda3\\lib\\site-packages (from cobra>=0.5.0->escher) (5.19.2)\n",
      "Requirement already satisfied: swiglpk in c:\\users\\microsoft\\anaconda3\\lib\\site-packages (from cobra>=0.5.0->escher) (5.0.5)\n",
      "Requirement already satisfied: appdirs~=1.4 in c:\\users\\microsoft\\anaconda3\\lib\\site-packages (from cobra>=0.5.0->escher) (1.4.4)\n",
      "Requirement already satisfied: rich>=8.0 in c:\\users\\microsoft\\anaconda3\\lib\\site-packages (from cobra>=0.5.0->escher) (12.0.1)\n",
      "Requirement already satisfied: charset-normalizer in c:\\users\\microsoft\\anaconda3\\lib\\site-packages (from httpx~=0.14->cobra>=0.5.0->escher) (2.0.12)\n",
      "Requirement already satisfied: rfc3986[idna2008]<2,>=1.3 in c:\\users\\microsoft\\anaconda3\\lib\\site-packages (from httpx~=0.14->cobra>=0.5.0->escher) (1.5.0)\n",
      "Requirement already satisfied: httpcore<0.15.0,>=0.14.5 in c:\\users\\microsoft\\anaconda3\\lib\\site-packages (from httpx~=0.14->cobra>=0.5.0->escher) (0.14.7)\n",
      "Requirement already satisfied: certifi in c:\\users\\microsoft\\anaconda3\\lib\\site-packages (from httpx~=0.14->cobra>=0.5.0->escher) (2020.12.5)\n",
      "Requirement already satisfied: sniffio in c:\\users\\microsoft\\anaconda3\\lib\\site-packages (from httpx~=0.14->cobra>=0.5.0->escher) (1.2.0)\n",
      "Requirement already satisfied: h11<0.13,>=0.11 in c:\\users\\microsoft\\anaconda3\\lib\\site-packages (from httpcore<0.15.0,>=0.14.5->httpx~=0.14->cobra>=0.5.0->escher) (0.12.0)\n",
      "Requirement already satisfied: anyio==3.* in c:\\users\\microsoft\\anaconda3\\lib\\site-packages (from httpcore<0.15.0,>=0.14.5->httpx~=0.14->cobra>=0.5.0->escher) (3.5.0)\n",
      "Requirement already satisfied: idna>=2.8 in c:\\users\\microsoft\\anaconda3\\lib\\site-packages (from anyio==3.*->httpcore<0.15.0,>=0.14.5->httpx~=0.14->cobra>=0.5.0->escher) (2.10)\n",
      "Requirement already satisfied: ipykernel>=4.5.1 in c:\\users\\microsoft\\anaconda3\\lib\\site-packages (from ipywidgets<8,>=7.4.0->escher) (5.3.4)\n",
      "Requirement already satisfied: widgetsnbextension~=3.5.0 in c:\\users\\microsoft\\anaconda3\\lib\\site-packages (from ipywidgets<8,>=7.4.0->escher) (3.5.1)\n",
      "Requirement already satisfied: nbformat>=4.2.0 in c:\\users\\microsoft\\anaconda3\\lib\\site-packages (from ipywidgets<8,>=7.4.0->escher) (5.1.3)\n",
      "Requirement already satisfied: jupyterlab-widgets>=1.0.0 in c:\\users\\microsoft\\anaconda3\\lib\\site-packages (from ipywidgets<8,>=7.4.0->escher) (1.0.0)\n",
      "Requirement already satisfied: ipython>=4.0.0 in c:\\users\\microsoft\\anaconda3\\lib\\site-packages (from ipywidgets<8,>=7.4.0->escher) (7.22.0)\n",
      "Requirement already satisfied: traitlets>=4.3.1 in c:\\users\\microsoft\\anaconda3\\lib\\site-packages (from ipywidgets<8,>=7.4.0->escher) (5.0.5)\n",
      "Requirement already satisfied: tornado>=4.2 in c:\\users\\microsoft\\anaconda3\\lib\\site-packages (from ipykernel>=4.5.1->ipywidgets<8,>=7.4.0->escher) (6.1)\n",
      "Requirement already satisfied: jupyter-client in c:\\users\\microsoft\\anaconda3\\lib\\site-packages (from ipykernel>=4.5.1->ipywidgets<8,>=7.4.0->escher) (6.1.12)\n",
      "Requirement already satisfied: pickleshare in c:\\users\\microsoft\\anaconda3\\lib\\site-packages (from ipython>=4.0.0->ipywidgets<8,>=7.4.0->escher) (0.7.5)\n",
      "Requirement already satisfied: prompt-toolkit!=3.0.0,!=3.0.1,<3.1.0,>=2.0.0 in c:\\users\\microsoft\\anaconda3\\lib\\site-packages (from ipython>=4.0.0->ipywidgets<8,>=7.4.0->escher) (3.0.17)\n",
      "Requirement already satisfied: colorama in c:\\users\\microsoft\\anaconda3\\lib\\site-packages (from ipython>=4.0.0->ipywidgets<8,>=7.4.0->escher) (0.4.4)\n",
      "Requirement already satisfied: decorator in c:\\users\\microsoft\\anaconda3\\lib\\site-packages (from ipython>=4.0.0->ipywidgets<8,>=7.4.0->escher) (5.0.6)\n",
      "Requirement already satisfied: jedi>=0.16 in c:\\users\\microsoft\\anaconda3\\lib\\site-packages (from ipython>=4.0.0->ipywidgets<8,>=7.4.0->escher) (0.17.2)\n",
      "Requirement already satisfied: pygments in c:\\users\\microsoft\\anaconda3\\lib\\site-packages (from ipython>=4.0.0->ipywidgets<8,>=7.4.0->escher) (2.8.1)\n",
      "Requirement already satisfied: setuptools>=18.5 in c:\\users\\microsoft\\anaconda3\\lib\\site-packages (from ipython>=4.0.0->ipywidgets<8,>=7.4.0->escher) (52.0.0.post20210125)\n",
      "Requirement already satisfied: backcall in c:\\users\\microsoft\\anaconda3\\lib\\site-packages (from ipython>=4.0.0->ipywidgets<8,>=7.4.0->escher) (0.2.0)\n",
      "Requirement already satisfied: parso<0.8.0,>=0.7.0 in c:\\users\\microsoft\\anaconda3\\lib\\site-packages (from jedi>=0.16->ipython>=4.0.0->ipywidgets<8,>=7.4.0->escher) (0.7.0)\n",
      "Requirement already satisfied: MarkupSafe>=0.23 in c:\\users\\microsoft\\anaconda3\\lib\\site-packages (from Jinja2<3,>=2.7.3->escher) (1.1.1)\n",
      "Requirement already satisfied: attrs>=17.4.0 in c:\\users\\microsoft\\anaconda3\\lib\\site-packages (from jsonschema<4,>=3.0.1->escher) (20.3.0)\n",
      "Requirement already satisfied: pyrsistent>=0.14.0 in c:\\users\\microsoft\\anaconda3\\lib\\site-packages (from jsonschema<4,>=3.0.1->escher) (0.17.3)\n",
      "Requirement already satisfied: six>=1.11.0 in c:\\users\\microsoft\\anaconda3\\lib\\site-packages (from jsonschema<4,>=3.0.1->escher) (1.15.0)\n",
      "Requirement already satisfied: jupyter-core in c:\\users\\microsoft\\anaconda3\\lib\\site-packages (from nbformat>=4.2.0->ipywidgets<8,>=7.4.0->escher) (4.7.1)\n",
      "Requirement already satisfied: ipython-genutils in c:\\users\\microsoft\\anaconda3\\lib\\site-packages (from nbformat>=4.2.0->ipywidgets<8,>=7.4.0->escher) (0.2.0)\n",
      "Requirement already satisfied: sympy>=1.0 in c:\\users\\microsoft\\anaconda3\\lib\\site-packages (from optlang~=1.5->cobra>=0.5.0->escher) (1.8)\n",
      "Requirement already satisfied: pytz>=2017.3 in c:\\users\\microsoft\\anaconda3\\lib\\site-packages (from pandas>=0.18->escher) (2021.1)\n",
      "Requirement already satisfied: python-dateutil>=2.7.3 in c:\\users\\microsoft\\anaconda3\\lib\\site-packages (from pandas>=0.18->escher) (2.8.1)\n",
      "Requirement already satisfied: wcwidth in c:\\users\\microsoft\\anaconda3\\lib\\site-packages (from prompt-toolkit!=3.0.0,!=3.0.1,<3.1.0,>=2.0.0->ipython>=4.0.0->ipywidgets<8,>=7.4.0->escher) (0.2.5)\n",
      "Requirement already satisfied: typing-extensions>=3.7.4.3 in c:\\users\\microsoft\\anaconda3\\lib\\site-packages (from pydantic~=1.6->cobra>=0.5.0->escher) (3.7.4.3)\n",
      "Requirement already satisfied: pluggy<1.0,>=0.12 in c:\\users\\microsoft\\anaconda3\\lib\\site-packages (from pytest<5,>=4.0.1->escher) (0.13.1)\n",
      "Requirement already satisfied: more-itertools>=4.0.0 in c:\\users\\microsoft\\anaconda3\\lib\\site-packages (from pytest<5,>=4.0.1->escher) (8.7.0)\n",
      "Requirement already satisfied: packaging in c:\\users\\microsoft\\anaconda3\\lib\\site-packages (from pytest<5,>=4.0.1->escher) (20.9)\n",
      "Requirement already satisfied: py>=1.5.0 in c:\\users\\microsoft\\anaconda3\\lib\\site-packages (from pytest<5,>=4.0.1->escher) (1.10.0)\n",
      "Requirement already satisfied: atomicwrites>=1.0 in c:\\users\\microsoft\\anaconda3\\lib\\site-packages (from pytest<5,>=4.0.1->escher) (1.4.0)\n",
      "Requirement already satisfied: commonmark<0.10.0,>=0.9.0 in c:\\users\\microsoft\\anaconda3\\lib\\site-packages (from rich>=8.0->cobra>=0.5.0->escher) (0.9.1)\n",
      "Requirement already satisfied: ruamel.yaml.clib>=0.2.6 in c:\\users\\microsoft\\anaconda3\\lib\\site-packages (from ruamel.yaml~=0.16->cobra>=0.5.0->escher) (0.2.6)\n",
      "Requirement already satisfied: mpmath>=0.19 in c:\\users\\microsoft\\anaconda3\\lib\\site-packages (from sympy>=1.0->optlang~=1.5->cobra>=0.5.0->escher) (1.2.1)\n",
      "Requirement already satisfied: notebook>=4.4.1 in c:\\users\\microsoft\\anaconda3\\lib\\site-packages (from widgetsnbextension~=3.5.0->ipywidgets<8,>=7.4.0->escher) (6.3.0)\n",
      "Requirement already satisfied: argon2-cffi in c:\\users\\microsoft\\anaconda3\\lib\\site-packages (from notebook>=4.4.1->widgetsnbextension~=3.5.0->ipywidgets<8,>=7.4.0->escher) (20.1.0)\n",
      "Requirement already satisfied: Send2Trash>=1.5.0 in c:\\users\\microsoft\\anaconda3\\lib\\site-packages (from notebook>=4.4.1->widgetsnbextension~=3.5.0->ipywidgets<8,>=7.4.0->escher) (1.5.0)\n",
      "Requirement already satisfied: terminado>=0.8.3 in c:\\users\\microsoft\\anaconda3\\lib\\site-packages (from notebook>=4.4.1->widgetsnbextension~=3.5.0->ipywidgets<8,>=7.4.0->escher) (0.9.4)\n",
      "Requirement already satisfied: prometheus-client in c:\\users\\microsoft\\anaconda3\\lib\\site-packages (from notebook>=4.4.1->widgetsnbextension~=3.5.0->ipywidgets<8,>=7.4.0->escher) (0.10.1)\n",
      "Requirement already satisfied: pyzmq>=17 in c:\\users\\microsoft\\anaconda3\\lib\\site-packages (from notebook>=4.4.1->widgetsnbextension~=3.5.0->ipywidgets<8,>=7.4.0->escher) (20.0.0)\n",
      "Requirement already satisfied: nbconvert in c:\\users\\microsoft\\anaconda3\\lib\\site-packages (from notebook>=4.4.1->widgetsnbextension~=3.5.0->ipywidgets<8,>=7.4.0->escher) (6.0.7)\n",
      "Requirement already satisfied: pywin32>=1.0 in c:\\users\\microsoft\\anaconda3\\lib\\site-packages (from jupyter-core->nbformat>=4.2.0->ipywidgets<8,>=7.4.0->escher) (227)\n",
      "Requirement already satisfied: pywinpty>=0.5 in c:\\users\\microsoft\\anaconda3\\lib\\site-packages (from terminado>=0.8.3->notebook>=4.4.1->widgetsnbextension~=3.5.0->ipywidgets<8,>=7.4.0->escher) (0.5.7)\n",
      "Requirement already satisfied: cffi>=1.0.0 in c:\\users\\microsoft\\anaconda3\\lib\\site-packages (from argon2-cffi->notebook>=4.4.1->widgetsnbextension~=3.5.0->ipywidgets<8,>=7.4.0->escher) (1.14.5)\n",
      "Requirement already satisfied: pycparser in c:\\users\\microsoft\\anaconda3\\lib\\site-packages (from cffi>=1.0.0->argon2-cffi->notebook>=4.4.1->widgetsnbextension~=3.5.0->ipywidgets<8,>=7.4.0->escher) (2.20)\n",
      "Requirement already satisfied: zipp>=3.1.0 in c:\\users\\microsoft\\anaconda3\\lib\\site-packages (from importlib-resources->cobra>=0.5.0->escher) (3.4.1)\n",
      "Requirement already satisfied: testpath in c:\\users\\microsoft\\anaconda3\\lib\\site-packages (from nbconvert->notebook>=4.4.1->widgetsnbextension~=3.5.0->ipywidgets<8,>=7.4.0->escher) (0.4.4)\n",
      "Requirement already satisfied: defusedxml in c:\\users\\microsoft\\anaconda3\\lib\\site-packages (from nbconvert->notebook>=4.4.1->widgetsnbextension~=3.5.0->ipywidgets<8,>=7.4.0->escher) (0.7.1)\n",
      "Requirement already satisfied: mistune<2,>=0.8.1 in c:\\users\\microsoft\\anaconda3\\lib\\site-packages (from nbconvert->notebook>=4.4.1->widgetsnbextension~=3.5.0->ipywidgets<8,>=7.4.0->escher) (0.8.4)\n",
      "Requirement already satisfied: entrypoints>=0.2.2 in c:\\users\\microsoft\\anaconda3\\lib\\site-packages (from nbconvert->notebook>=4.4.1->widgetsnbextension~=3.5.0->ipywidgets<8,>=7.4.0->escher) (0.3)\n",
      "Requirement already satisfied: jupyterlab-pygments in c:\\users\\microsoft\\anaconda3\\lib\\site-packages (from nbconvert->notebook>=4.4.1->widgetsnbextension~=3.5.0->ipywidgets<8,>=7.4.0->escher) (0.1.2)\n",
      "Requirement already satisfied: nbclient<0.6.0,>=0.5.0 in c:\\users\\microsoft\\anaconda3\\lib\\site-packages (from nbconvert->notebook>=4.4.1->widgetsnbextension~=3.5.0->ipywidgets<8,>=7.4.0->escher) (0.5.3)\n",
      "Requirement already satisfied: pandocfilters>=1.4.1 in c:\\users\\microsoft\\anaconda3\\lib\\site-packages (from nbconvert->notebook>=4.4.1->widgetsnbextension~=3.5.0->ipywidgets<8,>=7.4.0->escher) (1.4.3)\n",
      "Requirement already satisfied: bleach in c:\\users\\microsoft\\anaconda3\\lib\\site-packages (from nbconvert->notebook>=4.4.1->widgetsnbextension~=3.5.0->ipywidgets<8,>=7.4.0->escher) (3.3.0)\n",
      "Requirement already satisfied: async-generator in c:\\users\\microsoft\\anaconda3\\lib\\site-packages (from nbclient<0.6.0,>=0.5.0->nbconvert->notebook>=4.4.1->widgetsnbextension~=3.5.0->ipywidgets<8,>=7.4.0->escher) (1.10)\n",
      "Requirement already satisfied: nest-asyncio in c:\\users\\microsoft\\anaconda3\\lib\\site-packages (from nbclient<0.6.0,>=0.5.0->nbconvert->notebook>=4.4.1->widgetsnbextension~=3.5.0->ipywidgets<8,>=7.4.0->escher) (1.5.1)\n",
      "Requirement already satisfied: webencodings in c:\\users\\microsoft\\anaconda3\\lib\\site-packages (from bleach->nbconvert->notebook>=4.4.1->widgetsnbextension~=3.5.0->ipywidgets<8,>=7.4.0->escher) (0.5.1)\n",
      "Requirement already satisfied: pyparsing>=2.0.2 in c:\\users\\microsoft\\anaconda3\\lib\\site-packages (from packaging->pytest<5,>=4.0.1->escher) (2.4.7)\n"
     ]
    }
   ],
   "source": [
    "pip install escher\n"
   ]
  },
  {
   "cell_type": "code",
   "execution_count": 20,
   "metadata": {},
   "outputs": [],
   "source": [
    "import escher"
   ]
  },
  {
   "cell_type": "code",
   "execution_count": 21,
   "metadata": {},
   "outputs": [],
   "source": [
    "from escher import Builder\n"
   ]
  },
  {
   "cell_type": "code",
   "execution_count": 22,
   "metadata": {},
   "outputs": [],
   "source": [
    "builder=Builder()\n"
   ]
  },
  {
   "cell_type": "code",
   "execution_count": 23,
   "metadata": {},
   "outputs": [
    {
     "data": {
      "application/vnd.jupyter.widget-view+json": {
       "model_id": "73dfa0468a634aa0a341de92fc67ae7a",
       "version_major": 2,
       "version_minor": 0
      },
      "text/plain": [
       "Builder()"
      ]
     },
     "metadata": {},
     "output_type": "display_data"
    }
   ],
   "source": [
    "builder\n"
   ]
  }
 ],
 "metadata": {
  "interpreter": {
   "hash": "e89acc2d22470e2866c416b707390a2b2ae020d5094fa0017f5067016e195789"
  },
  "kernelspec": {
   "display_name": "Python 3.8.8 ('base')",
   "language": "python",
   "name": "python3"
  },
  "language_info": {
   "codemirror_mode": {
    "name": "ipython",
    "version": 3
   },
   "file_extension": ".py",
   "mimetype": "text/x-python",
   "name": "python",
   "nbconvert_exporter": "python",
   "pygments_lexer": "ipython3",
   "version": "3.8.8"
  },
  "orig_nbformat": 4
 },
 "nbformat": 4,
 "nbformat_minor": 2
}
