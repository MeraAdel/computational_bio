{
 "cells": [
  {
   "cell_type": "code",
   "execution_count": 9,
   "id": "01146ba0",
   "metadata": {},
   "outputs": [
    {
     "name": "stdout",
     "output_type": "stream",
     "text": [
      "1017.4879641373001\n",
      "The peptide DFPIANGER consists of the following amino acids:\n",
      "Aspartate : 133.0375092233\n",
      "Phenylalanine : 165.0789793509\n",
      "Proline : 115.0633292871\n",
      "Isoleucine : 131.0946294147\n",
      "Alanine : 89.04767922330001\n",
      "Asparagine : 132.0534932552\n",
      "Glycine : 75.0320291595\n",
      "Glutamate : 147.05315928710002\n",
      "Arginine : 174.1116764466\n",
      "1161.5724846476999\n"
     ]
    }
   ],
   "source": [
    "from pyopenms import *\n",
    "seq = AASequence.fromString(\"DFPIANGER\")\n",
    "print(seq.getMonoWeight())\n",
    "print(\"The peptide\", str(seq), \"consists of the following amino acids:\")\n",
    "some=0\n",
    "for aa in seq:\n",
    "    print(aa.getName(), \":\", aa.getMonoWeight())\n",
    "for aa in seq:\n",
    "    some=some+aa.getMonoWeight()\n",
    "print(some)"
   ]
  },
  {
   "cell_type": "code",
   "execution_count": null,
   "id": "3c717dd8",
   "metadata": {},
   "outputs": [],
   "source": []
  }
 ],
 "metadata": {
  "kernelspec": {
   "display_name": "Python 3",
   "language": "python",
   "name": "python3"
  },
  "language_info": {
   "codemirror_mode": {
    "name": "ipython",
    "version": 3
   },
   "file_extension": ".py",
   "mimetype": "text/x-python",
   "name": "python",
   "nbconvert_exporter": "python",
   "pygments_lexer": "ipython3",
   "version": "3.8.8"
  }
 },
 "nbformat": 4,
 "nbformat_minor": 5
}
